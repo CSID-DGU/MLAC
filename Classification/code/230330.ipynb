{
 "cells": [
  {
   "attachments": {},
   "cell_type": "markdown",
   "metadata": {},
   "source": [
    "# [MLAC] 23개의 공격 하위(세부) 타입 분류"
   ]
  },
  {
   "attachments": {},
   "cell_type": "markdown",
   "metadata": {},
   "source": [
    "### 데이터 셋 불러오기"
   ]
  },
  {
   "cell_type": "code",
   "execution_count": 2,
   "metadata": {},
   "outputs": [],
   "source": [
    "import pandas as pd\n",
    "\n",
    "ConcatedCICI = pd.read_csv('/home/irteam/wendyunji-dcloud-dir/wendyunji/Dataset/MLAC-dataset/encoded_ConcatedCICI.csv')\n",
    "ConcatedUNSW = pd.read_csv('/home/irteam/wendyunji-dcloud-dir/wendyunji/Dataset/MLAC-dataset/encoded_ConcatedUNSW.csv')"
   ]
  },
  {
   "cell_type": "code",
   "execution_count": 3,
   "metadata": {},
   "outputs": [],
   "source": [
    "# Benign은 제거\n",
    "ConcatedCICI.drop(ConcatedCICI[ConcatedCICI['label']==0].index, inplace=True)\n",
    "ConcatedUNSW.drop(ConcatedUNSW[ConcatedUNSW['label']==0].index, inplace=True)\n",
    "\n",
    "# label 칼럼 제거\n",
    "del ConcatedCICI['label']\n",
    "del ConcatedUNSW['label']"
   ]
  },
  {
   "attachments": {},
   "cell_type": "markdown",
   "metadata": {},
   "source": [
    "### Attack Category 확인 및 실제 값으로 매핑"
   ]
  },
  {
   "cell_type": "code",
   "execution_count": 4,
   "metadata": {},
   "outputs": [
    {
     "name": "stdout",
     "output_type": "stream",
     "text": [
      "7     231073\n",
      "16    158930\n",
      "4     128027\n",
      "10     59131\n",
      "12     25621\n",
      "5      22493\n",
      "13     18100\n",
      "17     15203\n",
      "6      10293\n",
      "11      7938\n",
      "18      5897\n",
      "9       5796\n",
      "8       5499\n",
      "2       4070\n",
      "3       1966\n",
      "1       1695\n",
      "20      1507\n",
      "19       865\n",
      "22       652\n",
      "23       105\n",
      "15        36\n",
      "21        21\n",
      "14        11\n",
      "Name: attack_category, dtype: int64\n"
     ]
    }
   ],
   "source": [
    "print(ConcatedCICI['attack_category'].value_counts())"
   ]
  },
  {
   "cell_type": "code",
   "execution_count": 5,
   "metadata": {},
   "outputs": [
    {
     "name": "stdout",
     "output_type": "stream",
     "text": [
      "13    215481\n",
      "7     161097\n",
      "16    158935\n",
      "4      96027\n",
      "10     44525\n",
      "12     24246\n",
      "5      16353\n",
      "17     13987\n",
      "8       8835\n",
      "6       8780\n",
      "9       8706\n",
      "11      3991\n",
      "18      2984\n",
      "1       2677\n",
      "2       2329\n",
      "19      1511\n",
      "20      1365\n",
      "3       1230\n",
      "22       648\n",
      "23       174\n",
      "15        59\n",
      "14        21\n",
      "21        12\n",
      "Name: attack_category, dtype: int64\n"
     ]
    }
   ],
   "source": [
    "print(ConcatedUNSW['attack_category'].value_counts())"
   ]
  },
  {
   "cell_type": "code",
   "execution_count": 6,
   "metadata": {},
   "outputs": [
    {
     "name": "stdout",
     "output_type": "stream",
     "text": [
      "{1: 'Analysis', 2: 'Backdoor', 3: 'Bot', 4: 'DDoS', 5: 'DoS', 6: 'DoS GoldenEye', 7: 'DoS Slowhttptest', 8: 'DoS slowloris', 9: 'Dos Hulk', 10: 'Exploits', 11: 'FTP-Patator', 12: 'Fuzzers', 13: 'Generic', 14: 'Heartbleed', 15: 'Infiltration', 16: 'PortScan', 17: 'Reconnaissance', 18: 'SSH-Patator', 19: 'Shellcode', 20: 'Web Attack – Brute Force', 21: 'Web Attack – Sql Injection', 22: 'Web Attack – XSS', 23: 'Worms'}\n"
     ]
    }
   ],
   "source": [
    "# 숫자를 키로, 공격명을 값으로 가지는 딕셔너리 생성\n",
    "attackname = [\n",
    "    'Dos Hulk',\n",
    "    'PortScan',\n",
    "    'DDoS',\n",
    "    'DoS GoldenEye',\n",
    "    'FTP-Patator',\n",
    "    'SSH-Patator',\n",
    "    'DoS slowloris',\n",
    "    'DoS Slowhttptest',\n",
    "    'Bot',\n",
    "    'Web Attack – Brute Force',\n",
    "    'Web Attack – XSS',\n",
    "    'Infiltration',\n",
    "    'Web Attack – Sql Injection',\n",
    "    'Heartbleed',\n",
    "    'Generic',\n",
    "    'Exploits',\n",
    "    'Fuzzers',\n",
    "    'DoS',\n",
    "    'Reconnaissance',\n",
    "    'Analysis',\n",
    "    'Backdoor',\n",
    "    'Shellcode',\n",
    "    'Worms',\n",
    "]\n",
    "\n",
    "attackname.sort()\n",
    "attackdict = {}\n",
    "for i in range(len(attackname)):\n",
    "    attackdict[i+1] = attackname[i]\n",
    "    \n",
    "print(attackdict)"
   ]
  },
  {
   "attachments": {},
   "cell_type": "markdown",
   "metadata": {},
   "source": [
    "### 전체 정확도 얻기"
   ]
  },
  {
   "cell_type": "code",
   "execution_count": 7,
   "metadata": {},
   "outputs": [],
   "source": [
    "import classification_util as Cutils"
   ]
  },
  {
   "cell_type": "code",
   "execution_count": 8,
   "metadata": {},
   "outputs": [],
   "source": [
    "files = ['ConcatedCICI', 'ConcatedUNSW']\n",
    "datas = [ConcatedCICI, ConcatedUNSW]"
   ]
  },
  {
   "cell_type": "code",
   "execution_count": 9,
   "metadata": {},
   "outputs": [],
   "source": [
    "def Cpipeline(file, data):\n",
    "    X_train, X_test, y_train, y_test = Cutils.TrainTestSplit(data)\n",
    "    MLmodels = Cutils.getModels()\n",
    "    Cutils.MultiClassification(file, MLmodels, X_train, X_test, y_train, y_test)"
   ]
  },
  {
   "cell_type": "code",
   "execution_count": 11,
   "metadata": {},
   "outputs": [
    {
     "name": "stdout",
     "output_type": "stream",
     "text": [
      "Model\tAcc\tF1_mi\tRecall_mi\tPrecision_mi\tF1_ma\tRecall_ma\tPrecision_ma\tF1_we\tRecall_we\tPrecision_we\tExecution\n",
      "RF\t0.871\t0.871\t0.871\t0.871\t0.404\t0.381\t0.527\t0.846\t0.871\t0.870\t2.15 secs\n",
      "DT\t0.861\t0.861\t0.861\t0.861\t0.325\t0.299\t0.437\t0.831\t0.861\t0.829\t8.36 secs\n",
      "NB\t0.586\t0.586\t0.586\t0.586\t0.377\t0.585\t0.458\t0.635\t0.586\t0.874\t2.32 secs\n",
      "LDA\t0.861\t0.861\t0.861\t0.861\t0.569\t0.640\t0.605\t0.865\t0.861\t0.909\t6.28 secs\n",
      "QDA\t0.827\t0.827\t0.827\t0.827\t0.477\t0.568\t0.562\t0.833\t0.827\t0.933\t4.76 secs\n",
      "LR\t0.907\t0.907\t0.907\t0.907\t0.556\t0.554\t0.613\t0.891\t0.907\t0.918\t69.11 secs\n",
      "ABoost\t0.638\t0.638\t0.638\t0.638\t0.151\t0.178\t0.145\t0.518\t0.638\t0.458\t140.98 secs\n",
      "k-NN\t0.903\t0.903\t0.903\t0.903\t0.668\t0.652\t0.765\t0.900\t0.903\t0.899\t30.61 secs\n",
      "MLP\t0.916\t0.916\t0.916\t0.916\t0.624\t0.622\t0.757\t0.902\t0.916\t0.929\t518.72 secs\n",
      "SVM\t0.909\t0.909\t0.909\t0.909\t0.616\t0.619\t0.664\t0.893\t0.909\t0.897\t302.74 secs\n",
      "Model\tAcc\tF1_mi\tRecall_mi\tPrecision_mi\tF1_ma\tRecall_ma\tPrecision_ma\tF1_we\tRecall_we\tPrecision_we\tExecution\n",
      "RF\t0.812\t0.812\t0.812\t0.812\t0.224\t0.217\t0.295\t0.771\t0.812\t0.763\t2.27 secs\n",
      "DT\t0.874\t0.874\t0.874\t0.874\t0.252\t0.295\t0.337\t0.853\t0.874\t0.901\t8.79 secs\n",
      "NB\t0.862\t0.862\t0.862\t0.862\t0.591\t0.675\t0.651\t0.871\t0.862\t0.913\t9.26 secs\n",
      "LDA\t0.909\t0.909\t0.909\t0.909\t0.610\t0.710\t0.613\t0.919\t0.909\t0.940\t20.44 secs\n",
      "QDA\t0.869\t0.869\t0.869\t0.869\t0.573\t0.660\t0.603\t0.887\t0.869\t0.923\t11.52 secs\n",
      "LR\t0.943\t0.943\t0.943\t0.943\t0.599\t0.605\t0.694\t0.935\t0.943\t0.939\t81.75 secs\n",
      "ABoost\t0.537\t0.537\t0.537\t0.537\t0.130\t0.165\t0.149\t0.416\t0.537\t0.389\t152.68 secs\n",
      "k-NN\t0.945\t0.945\t0.945\t0.945\t0.729\t0.711\t0.784\t0.946\t0.945\t0.947\t86.84 secs\n",
      "MLP\t0.953\t0.953\t0.953\t0.953\t0.759\t0.754\t0.835\t0.948\t0.953\t0.952\t954.20 secs\n",
      "SVM\t0.943\t0.943\t0.943\t0.943\t0.603\t0.615\t0.695\t0.935\t0.943\t0.940\t208.35 secs\n"
     ]
    }
   ],
   "source": [
    "for i in range(len(files)):\n",
    "    Cpipeline(files[i],datas[i])"
   ]
  },
  {
   "attachments": {},
   "cell_type": "markdown",
   "metadata": {},
   "source": [
    "### 공격 별 정확도 얻기"
   ]
  },
  {
   "cell_type": "code",
   "execution_count": null,
   "metadata": {},
   "outputs": [],
   "source": [
    "import evaluation_utils as Eutils\n",
    "\n",
    "# 함수를 실행하기 위한 정보\n",
    "files = ['ConcatedCICI', 'ConcatedUNSW']\n",
    "modelnames = ['RF','DT','NB','LDA','QDA','LR','ABoost','k-NN','MLP','SVM']\n",
    "\n",
    "for i in range(len(files)):\n",
    "    #fprfile = open('/home/irteam/wendyunji-dcloud-dir/wendyunji/MLAC/Classification/Evaluation/Binary/FPR/'+file[i]+'.txt','w')\n",
    "    f = open('/home/irteam/wendyunji-dcloud-dir/wendyunji/2023-1/MLAC/Classification/result/230330/attackpereval_'+files[i]+'.txt','a')\n",
    "    for j in range(len(modelnames)):\n",
    "        f.write(str(modelnames[j])+'\\t')\n",
    "        txt = '/home/irteam/wendyunji-dcloud-dir/wendyunji/2023-1/MLAC/Classification/result/230330/matrix/'+files[i]+'_'+modelnames[j]+'.txt'\n",
    "        matrix = Eutils.CMtoList(txt)\n",
    "        metrics = Eutils.MultiMetric(f, matrix)\n",
    "        # print(metrics)\n",
    "        #fprfile.write(modelnames[j]+'\\t'+str(fpr)+'\\n')"
   ]
  },
  {
   "attachments": {},
   "cell_type": "markdown",
   "metadata": {},
   "source": [
    "### Best Model의 Feature importance 구하기"
   ]
  },
  {
   "attachments": {},
   "cell_type": "markdown",
   "metadata": {},
   "source": [
    "Best Model이 MLP로 선정됨에 따라 모델의 Feature importance를 구하기 위한 방법으로는 permutation_importance 함수를 사용하여 각 feature의 permutation importance를 계산할 수 있습니다. 이 방법은 특정 feature를 무작위로 섞어서 모델의 성능 변화를 측정하고, 이를 통해 각 feature의 중요도를 계산합니다. 이 방법은 non-linear 모델에서도 적용 가능하며, feature 간 상호작용에 대한 정보도 제공합니다.\n",
    " (https://scikit-learn.org/stable/modules/generated/sklearn.inspection.permutation_importance.html )"
   ]
  },
  {
   "cell_type": "code",
   "execution_count": null,
   "metadata": {},
   "outputs": [],
   "source": [
    "from sklearn.neural_network import MLPClassifier\n",
    "from sklearn.inspection import permutation_importance\n",
    "from sklearn.datasets import make_classification\n",
    "import eli5\n",
    "from eli5.sklearn import PermutationImportance"
   ]
  },
  {
   "cell_type": "code",
   "execution_count": null,
   "metadata": {},
   "outputs": [],
   "source": [
    "def mlpFI(data):\n",
    "    clf = MLPClassifier()\n",
    "    X_train, X_test, y_train, y_test = Cutils.TrainTestSplit(data)\n",
    "    clf.fit(X_train, y_train)\n",
    "    result = permutation_importance(\n",
    "        clf,\n",
    "        X_train,\n",
    "        Y_train,\n",
    "        scoring='f1',\n",
    "        \n",
    "    )"
   ]
  },
  {
   "cell_type": "code",
   "execution_count": null,
   "metadata": {},
   "outputs": [],
   "source": [
    "perm = PermutationImportance(model, scoring = \"f1\", random_state = 42).fit(X_val, y_val)\n",
    "eli5.show_weights(perm, top = 80, feature_names = X_val.columns.tolist())"
   ]
  }
 ],
 "metadata": {
  "kernelspec": {
   "display_name": "MLAC",
   "language": "python",
   "name": "python3"
  },
  "language_info": {
   "codemirror_mode": {
    "name": "ipython",
    "version": 3
   },
   "file_extension": ".py",
   "mimetype": "text/x-python",
   "name": "python",
   "nbconvert_exporter": "python",
   "pygments_lexer": "ipython3",
   "version": "3.10.8"
  },
  "orig_nbformat": 4
 },
 "nbformat": 4,
 "nbformat_minor": 2
}
