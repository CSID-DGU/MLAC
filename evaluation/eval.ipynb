{
 "cells": [
  {
   "cell_type": "code",
   "execution_count": 1,
   "metadata": {},
   "outputs": [],
   "source": [
    "import pandas as pd\n",
    "import numpy as np\n",
    "\n",
    "UNSW={\n",
    "    '2class':'/home/irteam/junghye-dcloud-dir/MLAC/evaluation/UNSW_binary_eval.csv',\n",
    "    '5class':'/home/irteam/junghye-dcloud-dir/MLAC/evaluation/UNSW_5class_eval.csv',\n",
    "    '16class':'/home/irteam/junghye-dcloud-dir/MLAC/evaluation/UNSW_16class_eval.csv'\n",
    "}\n"
   ]
  },
  {
   "cell_type": "code",
   "execution_count": 2,
   "metadata": {},
   "outputs": [
    {
     "name": "stdout",
     "output_type": "stream",
     "text": [
      "2classresult\n",
      "  name       acc  recall_mi  recall_ma  recall_we\n",
      "8  MLP  0.992496   0.992496   0.979080   0.992496\n",
      "7  KNN  0.992483   0.992483   0.981958   0.992483\n",
      "5classresult\n",
      "  name       acc  recall_mi  recall_ma  recall_we\n",
      "8  MLP  0.981522   0.981522   0.709832   0.981522\n",
      "7  KNN  0.979738   0.979738   0.718724   0.979738\n",
      "16classresult\n",
      "  name       acc  recall_mi  recall_ma  recall_we\n",
      "8  MLP  0.979109   0.979109   0.486068   0.979109\n",
      "7  KNN  0.976766   0.976766   0.467567   0.976766\n"
     ]
    }
   ],
   "source": [
    "for i,(class_,path) in enumerate(UNSW.items()):\n",
    "    print(class_+'result')\n",
    "\n",
    "    data=pd.read_csv(path)\n",
    "    top2=data.sort_values(by='acc',ascending=False).head(2)\n",
    "\n",
    "    print(top2.loc[:,['name','acc','recall_mi','recall_ma','recall_we']])\n"
   ]
  }
 ],
 "metadata": {
  "kernelspec": {
   "display_name": "base",
   "language": "python",
   "name": "python3"
  },
  "language_info": {
   "codemirror_mode": {
    "name": "ipython",
    "version": 3
   },
   "file_extension": ".py",
   "mimetype": "text/x-python",
   "name": "python",
   "nbconvert_exporter": "python",
   "pygments_lexer": "ipython3",
   "version": "3.7.10"
  },
  "orig_nbformat": 4
 },
 "nbformat": 4,
 "nbformat_minor": 2
}
