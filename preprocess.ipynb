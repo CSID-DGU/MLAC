{
 "cells": [
  {
   "cell_type": "code",
   "execution_count": 1,
   "metadata": {},
   "outputs": [],
   "source": [
    "import pandas as pd\n",
    "import numpy as np\n",
    "\n",
    "files={\n",
    "    'CICI':'/home/irteam/junghye-dcloud-dir/MLAC/data/encodedwithdlabel_ConcatedCICI.csv',\n",
    "    'UNSW': '/home/irteam/junghye-dcloud-dir/MLAC/data/encodedwithdlabel_ConcatedUNSW.csv'\n",
    "}\n",
    "\n",
    "nist_target={\n",
    "    'Reconnaissance' : ['PortScan', 'Web Attack-Brute force', \n",
    "                        'Web attack-XSS', 'Web attack-sql injection', 'heartbleed'],\n",
    "    'Access' : ['FTP-Patator', 'SSH-Patator', 'Bot', 'Infiltration', 'Backdoor', 'Shellcode', 'Exploits', 'Fuzzers', 'Worms'],\n",
    "    'DoS':['Dos Hulk', 'DDoS', 'DoS GoldenEye', 'DoS slowloris', 'DoS Slowhttptest'],\n",
    "    'Malware':['Normal','Generic','Analysis']   \n",
    "\n",
    "}\n",
    "\n",
    "decoded_target={1: 'Analysis', 2: 'Backdoor', 3: 'Bot', 4: 'DDoS', 5: 'DoS', 6: 'DoS GoldenEye', \n",
    "7: 'DoS Slowhttptest', 8: 'DoS slowloris', 9: 'Dos Hulk', 10: 'Exploits',\n",
    " 11: 'FTP-Patator', 12: 'Fuzzers', 13: 'Generic', 14: 'Heartbleed', \n",
    " 15: 'Infiltration', 16: 'PortScan', 17: 'Reconnaissance', 18: 'SSH-Patator',\n",
    "   19: 'Shellcode', 20: 'Web Attack – Brute Force',\n",
    " 21: 'Web Attack – Sql Injection', 22: 'Web Attack – XSS', 23: 'Worms'}\n"
   ]
  },
  {
   "cell_type": "code",
   "execution_count": 2,
   "metadata": {},
   "outputs": [
    {
     "name": "stdout",
     "output_type": "stream",
     "text": [
      "73 216\n"
     ]
    }
   ],
   "source": [
    "#데이터 확인\n",
    "cici=pd.read_csv(files['CICI'])\n",
    "unsw=pd.read_csv(files['UNSW'])\n",
    "\n"
   ]
  },
  {
   "cell_type": "code",
   "execution_count": 15,
   "metadata": {},
   "outputs": [
    {
     "name": "stdout",
     "output_type": "stream",
     "text": [
      "69 216\n"
     ]
    }
   ],
   "source": [
    "print(len(cici.columns),len(unsw.columns))"
   ]
  },
  {
   "cell_type": "code",
   "execution_count": 11,
   "metadata": {},
   "outputs": [],
   "source": [
    "for x in cici.columns:\n",
    "    if x in cici_discard:\n",
    "        print(x)\n"
   ]
  },
  {
   "cell_type": "code",
   "execution_count": 13,
   "metadata": {},
   "outputs": [
    {
     "data": {
      "text/plain": [
       "Index(['protocol', 'flow_duration', 'tot_fwd_pkts', 'tot_bwd_pkts',\n",
       "       'tot_len_fwd_pkts', 'tot_len_bwd_pkts', 'fwd_pkt_len_max',\n",
       "       'fwd_pkt_len_min', 'fwd_pkt_len_mean', 'fwd_pkt_len_std',\n",
       "       'bwd_pkt_len_max', 'bwd_pkt_len_min', 'bwd_pkt_len_mean',\n",
       "       'bwd_pkt_len_std', 'flow_byts_s', 'flow_pkts_s', 'flow_iat_mean',\n",
       "       'flow_iat_std', 'flow_iat_max', 'flow_iat_min', 'fwd_iat_tot',\n",
       "       'fwd_iat_mean', 'fwd_iat_std', 'fwd_iat_max', 'fwd_iat_min',\n",
       "       'bwd_iat_tot', 'bwd_iat_mean', 'bwd_iat_std', 'bwd_iat_max',\n",
       "       'bwd_iat_min', 'fwd_header_len', 'bwd_header_len', 'fwd_pkts_s',\n",
       "       'bwd_pkts_s', 'pkt_len_min', 'pkt_len_max', 'pkt_len_mean',\n",
       "       'pkt_len_std', 'pkt_len_var', 'fin_flag_cnt', 'syn_flag_cnt',\n",
       "       'psh_flag_cnt', 'ack_flag_cnt', 'down_up_ratio', 'pkt_size_avg',\n",
       "       'fwd_seg_size_avg', 'bwd_seg_size_avg', 'fwd_pkts_b_avg',\n",
       "       'fwd_blk_rate_avg', 'bwd_byts_b_avg', 'bwd_pkts_b_avg',\n",
       "       'bwd_blk_rate_avg', 'subflow_fwd_pkts', 'subflow_fwd_byts',\n",
       "       'subflow_bwd_pkts', 'subflow_bwd_byts', 'init_bwd_win_byts',\n",
       "       'fwd_act_data_pkts', 'active_mean', 'active_std', 'active_max',\n",
       "       'active_min', 'idle_mean', 'idle_std', 'idle_max', 'idle_min',\n",
       "       'dlabel_cici', 'dlabel_unsw', 'attack_category', 'label',\n",
       "       'nist_category'],\n",
       "      dtype='object')"
      ]
     },
     "execution_count": 13,
     "metadata": {},
     "output_type": "execute_result"
    }
   ],
   "source": [
    "#cici.head()\n",
    "cici.columns"
   ]
  },
  {
   "cell_type": "code",
   "execution_count": 10,
   "metadata": {},
   "outputs": [],
   "source": [
    "cici.drop(['Unnamed: 0','Unnamed: 0.1'],axis=1,inplace=True)"
   ]
  },
  {
   "cell_type": "code",
   "execution_count": 14,
   "metadata": {},
   "outputs": [],
   "source": [
    "cici.drop(['dlabel_cici','dlabel_unsw'],axis=1,inplace=True)"
   ]
  },
  {
   "cell_type": "code",
   "execution_count": 16,
   "metadata": {},
   "outputs": [],
   "source": [
    "cici.to_csv('/home/irteam/junghye-dcloud-dir/MLAC/new_data/CICI.csv',index=False)"
   ]
  },
  {
   "cell_type": "code",
   "execution_count": 4,
   "metadata": {},
   "outputs": [],
   "source": [
    "# 불필요한 열 삭제\n",
    "cici_discard=['Unnamed: 0','fwd_psh_flags', 'bwd_psh_flags','fwd_urg_flags', 'bwd_urg_flags']+\\\n",
    "    ['rst_flag_cnt', 'urg_flag_cnt','cwe_flag_count', 'ece_flag_cnt','fwd_byts_b_avg']+\\\n",
    "    ['init_fwd_win_byts','fwd_seg_size_min', 'dlabel']"
   ]
  },
  {
   "cell_type": "code",
   "execution_count": 18,
   "metadata": {},
   "outputs": [
    {
     "name": "stdout",
     "output_type": "stream",
     "text": [
      "69\n"
     ]
    }
   ],
   "source": [
    "# 마지막으로 검토\n",
    "new_cici=pd.read_csv('/home/irteam/junghye-dcloud-dir/MLAC/new_data/CICI.csv')\n",
    "print(len(new_cici.columns))"
   ]
  },
  {
   "cell_type": "code",
   "execution_count": 30,
   "metadata": {},
   "outputs": [
    {
     "data": {
      "text/plain": [
       "24"
      ]
     },
     "execution_count": 30,
     "metadata": {},
     "output_type": "execute_result"
    }
   ],
   "source": [
    "#CICI의 nist target은\n",
    "cici.attack_category.nunique()"
   ]
  },
  {
   "cell_type": "code",
   "execution_count": 32,
   "metadata": {},
   "outputs": [
    {
     "name": "stdout",
     "output_type": "stream",
     "text": [
      "['Analysis', 'Backdoor', 'Bot', 'DDoS', 'DoS', 'DoS GoldenEye', 'DoS Slowhttptest', 'DoS slowloris', 'Dos Hulk', 'Exploits', 'FTP-Patator', 'Fuzzers', 'Generic', 'Heartbleed', 'Infiltration', 'PortScan', 'Reconnaissance', 'SSH-Patator', 'Shellcode', 'Web Attack – Brute Force', 'Web Attack – Sql Injection', 'Web Attack – XSS', 'Worms']\n"
     ]
    }
   ],
   "source": [
    "attack_cat={1: 'Analysis', 2: 'Backdoor', 3: 'Bot', 4: 'DDoS', 5: 'DoS', 6: 'DoS GoldenEye', 7: 'DoS Slowhttptest', 8: 'DoS slowloris', 9: 'Dos Hulk', 10: 'Exploits', 11: 'FTP-Patator', 12: 'Fuzzers', 13: 'Generic', 14: 'Heartbleed', 15: 'Infiltration', 16: 'PortScan', 17: 'Reconnaissance', 18: 'SSH-Patator', 19: 'Shellcode', 20: 'Web Attack – Brute Force', 21: 'Web Attack – Sql Injection', 22: 'Web Attack – XSS', 23: 'Worms'}\n",
    "attack_lst=[]\n",
    "for key,item in attack_cat.items():\n",
    "    attack_lst.append(item)\n",
    "\n",
    "print(attack_lst)"
   ]
  },
  {
   "cell_type": "code",
   "execution_count": 17,
   "metadata": {},
   "outputs": [],
   "source": [
    "unsw_discard=['Unnamed: 0','ct_srv_src', 'ct_srv_dst', 'ct_dst_ltm', 'ct_src_ltm',\n",
    "       'ct_src_dport_ltm', 'ct_dst_sport_ltm', 'ct_dst_src_ltm', 'dlabel']"
   ]
  },
  {
   "cell_type": "code",
   "execution_count": 24,
   "metadata": {},
   "outputs": [],
   "source": [
    "for x in unsw.columns:\n",
    "    if x in unsw_discard:\n",
    "        print(x)"
   ]
  },
  {
   "cell_type": "code",
   "execution_count": 25,
   "metadata": {},
   "outputs": [
    {
     "data": {
      "text/plain": [
       "211"
      ]
     },
     "execution_count": 25,
     "metadata": {},
     "output_type": "execute_result"
    }
   ],
   "source": [
    "len(unsw.columns)"
   ]
  },
  {
   "cell_type": "code",
   "execution_count": 22,
   "metadata": {},
   "outputs": [],
   "source": [
    "unsw.drop(['Unnamed: 0', 'Unnamed: 0.1', 'unnamed_0_1','dlabel_cici', 'dlabel_unsw'],axis=1,inplace=True)"
   ]
  },
  {
   "cell_type": "code",
   "execution_count": 26,
   "metadata": {},
   "outputs": [],
   "source": [
    "unsw.to_csv('/home/irteam/junghye-dcloud-dir/MLAC/new_data/UNSW.csv',index=False)"
   ]
  },
  {
   "cell_type": "code",
   "execution_count": 27,
   "metadata": {},
   "outputs": [
    {
     "name": "stdout",
     "output_type": "stream",
     "text": [
      "211\n"
     ]
    }
   ],
   "source": [
    "# 마지막 검토\n",
    "new_unsw=pd.read_csv('/home/irteam/junghye-dcloud-dir/MLAC/new_data/UNSW.csv')\n",
    "print(len(new_unsw.columns))"
   ]
  },
  {
   "cell_type": "code",
   "execution_count": 2,
   "metadata": {},
   "outputs": [],
   "source": [
    "# \n",
    "\n",
    "new_mapping={ # 앞은 mapping할category(0,1,2,3,..), 뒤는 새로 생성category(0,1,..9)\n",
    "    0: 0,\n",
    "    1:2,\n",
    "    2:4 ,\n",
    "    3: 4,\n",
    "    4:1,\n",
    "    5:1,\n",
    "    6:1,\n",
    "    7:1,\n",
    "    8:1,\n",
    "    9:1,\n",
    "    10:6,\n",
    "    11:3,\n",
    "    12:9,\n",
    "    13:8,\n",
    "    14:7,\n",
    "    15:6,\n",
    "    16:2,\n",
    "    17:2,\n",
    "    18:3,\n",
    "    19:4,\n",
    "    20:5,\n",
    "    21:5,\n",
    "    22:5,\n",
    "    23:4\n",
    "  \n",
    "}\n",
    "\n",
    "\n",
    "# mapping \n",
    "func=lambda x: new_mapping.get(x,x)\n",
    "\n",
    "for file in files.keys():\n",
    "\n",
    "    data=pd.read_csv(files[file])\n",
    "    data['new_category']=data.attack_category.map(func)\n",
    "    data.to_csv(files[file])\n",
    "\n"
   ]
  },
  {
   "attachments": {},
   "cell_type": "markdown",
   "metadata": {},
   "source": [
    "# Nist category mapping"
   ]
  },
  {
   "cell_type": "code",
   "execution_count": 3,
   "metadata": {},
   "outputs": [],
   "source": [
    "# mapping 다시 해야함 \n",
    "nist_mapping={ # 앞은 attack_category(1,2,3,..), 뒤는 nist_category(1,2,3,4)\n",
    "    0: 0,\n",
    "    1:4,\n",
    "    2: 2,\n",
    "    3: 2,\n",
    "    4:3,\n",
    "    5:3,\n",
    "    6:3,\n",
    "    7:3,\n",
    "    8:3,\n",
    "    9:3,\n",
    "    10:2,\n",
    "    11:2,\n",
    "    12:2,\n",
    "    13:4,\n",
    "    14:1,\n",
    "    15:2,\n",
    "    16:1,\n",
    "    17:1,\n",
    "    18:2,\n",
    "    19:2,\n",
    "    20:1,\n",
    "    21:1,\n",
    "    22:1,\n",
    "    23:2\n",
    "  \n",
    "}\n",
    "\n",
    "\n",
    "# mapping \n",
    "func=lambda x: nist_mapping.get(x,x)\n",
    "\n",
    "for file in files.keys():\n",
    "\n",
    "    data=pd.read_csv(files[file])\n",
    "    data['nist_category']=data.attack_category.map(func)\n",
    "    data.to_csv(files[file])\n",
    "\n"
   ]
  },
  {
   "cell_type": "code",
   "execution_count": 5,
   "metadata": {},
   "outputs": [
    {
     "name": "stdout",
     "output_type": "stream",
     "text": [
      "dataset:CICI\n",
      "0    5759318\n",
      "3     403181\n",
      "1     176324\n",
      "2     105629\n",
      "4      19795\n",
      "Name: nist_category, dtype: int64\n",
      "0     5759318\n",
      "7      231073\n",
      "16     158930\n",
      "4      128027\n",
      "10      59131\n",
      "12      25621\n",
      "5       22493\n",
      "13      18100\n",
      "17      15203\n",
      "6       10293\n",
      "11       7938\n",
      "18       5897\n",
      "9        5796\n",
      "8        5499\n",
      "2        4070\n",
      "3        1966\n",
      "1        1695\n",
      "20       1507\n",
      "19        865\n",
      "22        652\n",
      "23        105\n",
      "15         36\n",
      "21         21\n",
      "14         11\n",
      "Name: attack_category, dtype: int64\n",
      "dataset:UNSW\n",
      "0    4157619\n",
      "3     299798\n",
      "4     218158\n",
      "1     174968\n",
      "2      81049\n",
      "Name: nist_category, dtype: int64\n",
      "0     4157619\n",
      "13     215481\n",
      "7      161097\n",
      "16     158935\n",
      "4       96027\n",
      "10      44525\n",
      "12      24246\n",
      "5       16353\n",
      "17      13987\n",
      "8        8835\n",
      "6        8780\n",
      "9        8706\n",
      "11       3991\n",
      "18       2984\n",
      "1        2677\n",
      "2        2329\n",
      "19       1511\n",
      "20       1365\n",
      "3        1230\n",
      "22        648\n",
      "23        174\n",
      "15         59\n",
      "14         21\n",
      "21         12\n",
      "Name: attack_category, dtype: int64\n"
     ]
    }
   ],
   "source": [
    "# 확인\n",
    "for file in files.keys():\n",
    "    print(f\"dataset:{file}\")\n",
    "    data=pd.read_csv(files[file])\n",
    "    \n",
    "    print(data['nist_category'].value_counts())\n",
    "    print(data['attack_category'].value_counts())"
   ]
  }
 ],
 "metadata": {
  "kernelspec": {
   "display_name": "Python 3",
   "language": "python",
   "name": "python3"
  },
  "language_info": {
   "codemirror_mode": {
    "name": "ipython",
    "version": 3
   },
   "file_extension": ".py",
   "mimetype": "text/x-python",
   "name": "python",
   "nbconvert_exporter": "python",
   "pygments_lexer": "ipython3",
   "version": "3.7.10"
  },
  "orig_nbformat": 4
 },
 "nbformat": 4,
 "nbformat_minor": 2
}
