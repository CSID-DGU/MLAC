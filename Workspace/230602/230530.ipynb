{
 "cells": [
  {
   "attachments": {},
   "cell_type": "markdown",
   "metadata": {},
   "source": [
    "## Full Attack 모델 테스트"
   ]
  },
  {
   "attachments": {},
   "cell_type": "markdown",
   "metadata": {},
   "source": [
    "### **0. 필요한 라이브러리 import 및 Data 불러오기**"
   ]
  },
  {
   "cell_type": "code",
   "execution_count": 1,
   "metadata": {},
   "outputs": [],
   "source": [
    "import classification_util\n",
    "import pandas as pd\n",
    "\n",
    "files={\n",
    "    'CICI':'/home/irteam/dcloud-global-dir/MLAC/new_data/CICI.csv',\n",
    "    'UNSW':'/home/irteam/dcloud-global-dir/MLAC/new_data/UNSW.csv'\n",
    "}\n",
    "\n",
    "CICI_data = pd.read_csv(files['CICI'])\n",
    "UNSW_data = pd.read_csv(files['UNSW'])"
   ]
  },
  {
   "cell_type": "code",
   "execution_count": 2,
   "metadata": {},
   "outputs": [],
   "source": [
    "models = classification_util.getModels()"
   ]
  },
  {
   "attachments": {},
   "cell_type": "markdown",
   "metadata": {},
   "source": [
    "### **1. 데이터 분류하기**"
   ]
  },
  {
   "cell_type": "code",
   "execution_count": 3,
   "metadata": {},
   "outputs": [],
   "source": [
    "attack_23={0:'Benign', 1: 'Analysis', 2: 'Backdoor', 3: 'Bot', 4: 'DDoS', 5: 'DoS', 6: 'DoS GoldenEye', 7: 'DoS Slowhttptest', 8: 'DoS slowloris', 9: 'Dos Hulk', 10: 'Exploits', 11: 'FTP-Patator', 12: 'Fuzzers', 13: 'Generic', 14: 'Heartbleed', 15: 'Infiltration', 16: 'PortScan', 17: 'Reconnaissance', 18: 'SSH-Patator', 19: 'Shellcode', 20: 'Web Attack – Brute Force', 21: 'Web Attack – Sql Injection', 22: 'Web Attack – XSS', 23: 'Worms'}"
   ]
  },
  {
   "cell_type": "code",
   "execution_count": 4,
   "metadata": {},
   "outputs": [],
   "source": [
    "class_1_CICI_data=CICI_data[CICI_data['nist_category']==1]\n",
    "class_2_CICI_data=CICI_data[CICI_data['nist_category']==2]\n",
    "class_3_CICI_data=CICI_data[CICI_data['nist_category']==3]\n",
    "class_4_CICI_data=CICI_data[CICI_data['nist_category']==4]"
   ]
  },
  {
   "cell_type": "code",
   "execution_count": null,
   "metadata": {},
   "outputs": [],
   "source": [
    "class_1_UNSW_data=UNSW_data[UNSW_data['nist_category']==1]\n",
    "class_2_UNSW_data=UNSW_data[UNSW_data['nist_category']==2]\n",
    "class_3_UNSW_data=UNSW_data[UNSW_data['nist_category']==3]\n",
    "class_4_UNSW_data=UNSW_data[UNSW_data['nist_category']==4]"
   ]
  },
  {
   "cell_type": "code",
   "execution_count": 5,
   "metadata": {},
   "outputs": [
    {
     "data": {
      "text/plain": [
       "16    158930\n",
       "17     15203\n",
       "20      1507\n",
       "22       652\n",
       "21        21\n",
       "14        11\n",
       "Name: attack_category, dtype: int64"
      ]
     },
     "execution_count": 5,
     "metadata": {},
     "output_type": "execute_result"
    }
   ],
   "source": [
    "class_1_CICI_data['attack_category'].value_counts()"
   ]
  },
  {
   "cell_type": "code",
   "execution_count": 6,
   "metadata": {},
   "outputs": [],
   "source": [
    "from sklearn.model_selection import train_test_split\n",
    "def TrainTestSplit(type, data):\n",
    "    print('Dataset Split')\n",
    "    if type == 'B':\n",
    "        print('Binary Classification Dataset Split')\n",
    "        target = data['label']\n",
    "    elif type == 'N':\n",
    "        print('NIST Standard Classification Dataset Split')\n",
    "        # Remove Benign Data\n",
    "        benign = data[data['label'] == 0].index\n",
    "        data.drop(benign, inplace=True)\n",
    "        target = data['nist_category']\n",
    "    elif type == 'F':\n",
    "        print('Full attack Classification Dataset Split')\n",
    "        target = data['attack_category']\n",
    "\n",
    "    del data['attack_category']\n",
    "    del data['label']\n",
    "    del data['nist_category']\n",
    "    \n",
    "    X_train, X_test, y_train, y_test = train_test_split(data, target, test_size=0.3, shuffle=True, stratify=target, random_state=34)\n",
    "    return X_train, X_test, y_train, y_test"
   ]
  },
  {
   "cell_type": "code",
   "execution_count": 7,
   "metadata": {},
   "outputs": [],
   "source": [
    "import time\n",
    "import warnings\n",
    "warnings.filterwarnings(\"ignore\")\n",
    "import pandas as pd\n",
    "import numpy as np\n",
    "from sklearn.model_selection import train_test_split\n",
    "from sklearn import model_selection\n",
    "from sklearn.model_selection import cross_val_score\n",
    "from sklearn.neighbors import KNeighborsClassifier\n",
    "from sklearn.svm import SVC\n",
    "from sklearn.tree import DecisionTreeClassifier\n",
    "from sklearn.ensemble import RandomForestClassifier\n",
    "from sklearn.ensemble import AdaBoostClassifier\n",
    "from sklearn.linear_model import LogisticRegression\n",
    "from sklearn.naive_bayes import GaussianNB\n",
    "from sklearn.discriminant_analysis import LinearDiscriminantAnalysis\n",
    "from sklearn.discriminant_analysis import QuadraticDiscriminantAnalysis\n",
    "from sklearn.neural_network import MLPClassifier\n",
    "from sklearn import svm\n",
    "from sklearn.metrics import precision_score, recall_score, confusion_matrix, classification_report, accuracy_score, f1_score\n",
    "from sklearn import metrics\n",
    "import os\n",
    "from pathlib import Path\n",
    "import seaborn as sns\n",
    "import matplotlib.pyplot as plt\n",
    "import itertools"
   ]
  },
  {
   "cell_type": "code",
   "execution_count": 8,
   "metadata": {},
   "outputs": [],
   "source": [
    "\"\"\"\n",
    "Plot Confusion Matrix\n",
    "\"\"\"\n",
    "# confusion matrix plot\n",
    "def plot_confusion_matrix(con_mat,labels,title:str,cmap=plt.cm.get_cmap('Blues'),normalize=False, confusion_path=None):\n",
    "    plt.imshow(con_mat,interpolation='nearest',cmap=cmap)\n",
    "    plt.title(title)\n",
    "    plt.colorbar()\n",
    "    marks=np.arange(len(labels))\n",
    "    nlabels=[]\n",
    "    for k in range(len(con_mat)):\n",
    "        n=sum(con_mat[k])\n",
    "        nlabel='{0}(n={1})'.format(labels[k],n)\n",
    "        nlabels.append(nlabel)\n",
    "\n",
    "    plt.xticks(marks,labels,rotation=45)\n",
    "    plt.yticks(marks,nlabels)\n",
    "\n",
    "    thresh=con_mat.max()/2.\n",
    "    if normalize:\n",
    "        for i, j in itertools.product(range(con_mat.shape[0]), range(con_mat.shape[1])):\n",
    "            plt.text(j, i, '{0}%'.format(con_mat[i, j] * 100 / n), horizontalalignment=\"center\", color=\"white\" if con_mat[i, j] > thresh else \"black\")\n",
    "    else:\n",
    "        for i, j in itertools.product(range(con_mat.shape[0]), range(con_mat.shape[1])):\n",
    "            plt.text(j, i, con_mat[i, j], horizontalalignment=\"center\", color=\"white\" if con_mat[i, j] > thresh else \"black\")\n",
    "    plt.tight_layout()\n",
    "    plt.ylabel('True label')\n",
    "    plt.xlabel('Predicted label')\n",
    "    #plt.show()\n",
    "    #이미지 저장\n",
    "    plt.savefig(confusion_path+'/'+title+'.png',facecolor='#eeeeee',edgecolor='blue',pad_inches=0.5)\n",
    "    plt.clf()"
   ]
  },
  {
   "cell_type": "code",
   "execution_count": 11,
   "metadata": {},
   "outputs": [],
   "source": [
    "def MultiClassification(dtype, type, file, models, X_train, X_test, y_train, y_test):\n",
    "    accuracy = pd.DataFrame(columns=['Model','Acc','F1_mi','Recall_mi','Precision_mi','F1_ma','Recall_ma','Precision_ma','F1_we','Recall_we','Precision_we','Execution'])\n",
    "    print('Model\\tAcc\\tF1_mi\\tRecall_mi\\tPrecision_mi\\tF1_ma\\tRecall_ma\\tPrecision_ma\\tF1_we\\tRecall_we\\tPrecision_we\\tExecution')\n",
    "    cnt = 0\n",
    "    for name, model in models:\n",
    "        start_time = time.time()\n",
    "        # 모델 훈련 및 예측\n",
    "        model.fit(X_train, y_train)\n",
    "        prediction = model.predict(X_test)\n",
    "        # 지표 추출\n",
    "        delta = time.time() - start_time\n",
    "        acc = accuracy_score(y_test, prediction)\n",
    "        f1_mi = f1_score(y_test, prediction,average='micro')\n",
    "        f1_ma = f1_score(y_test, prediction,average='macro')\n",
    "        f1_we = f1_score(y_test, prediction,average='weighted')\n",
    "        recall_mi = recall_score(y_test, prediction, average='micro')\n",
    "        recall_ma = recall_score(y_test, prediction, average='macro')\n",
    "        recall_we = recall_score(y_test, prediction, average='weighted')\n",
    "        precision_mi = precision_score(y_test, prediction, average='micro')\n",
    "        precision_ma = precision_score(y_test, prediction, average='macro')\n",
    "        precision_we = precision_score(y_test, prediction, average='weighted')\n",
    "        confusion = metrics.confusion_matrix(y_test, prediction)\n",
    "        # 저장\n",
    "        accuracy.loc[cnt] = [name, acc, f1_mi, f1_ma, f1_we, recall_mi, recall_ma, recall_we, precision_mi, precision_ma, precision_we, delta]\n",
    "        print('{}\\t{:.3f}\\t{:.3f}\\t{:.3f}\\t{:.3f}\\t{:.3f}\\t{:.3f}\\t{:.3f}\\t{:.3f}\\t{:.3f}\\t{:.3f}\\t{:.2f} secs'.format(name, acc, f1_mi, f1_ma, f1_we, recall_mi, recall_ma, recall_we, precision_mi, precision_ma, precision_we, delta))\n",
    "        cnt += 1\n",
    "        marks = np.arange(len(y_train.value_counts()))\n",
    "        if type == 'N':\n",
    "            if dtype == 'C':\n",
    "                os.makedirs(os.getcwd()+'/Matrix/NIST/CICI',exist_ok=True)\n",
    "                plot_confusion_matrix(confusion,labels=marks,title=name,confusion_path=os.getcwd()+'/Matrix/NIST/CICI')\n",
    "            elif dtype == 'U':\n",
    "                os.makedirs(os.getcwd()+'/Matrix/NIST/UNSW',exist_ok=True)\n",
    "                plot_confusion_matrix(confusion,labels=marks,title=name,confusion_path=os.getcwd()+'/Matrix/NIST/UNSW')     \n",
    "                \n",
    "        if type == 'F':\n",
    "            if dtype == 'C':\n",
    "                os.makedirs(os.getcwd()+'/Matrix/FULL/CICI/3',exist_ok=True)\n",
    "                plot_confusion_matrix(confusion,labels=marks,title=name,confusion_path=os.getcwd()+'/Matrix/FULL/CICI/3')\n",
    "            elif dtype == 'U':\n",
    "                os.makedirs(os.getcwd()+'/Matrix/FULL/UNSW/3',exist_ok=True)\n",
    "                plot_confusion_matrix(confusion,labels=marks,title=name,confusion_path=os.getcwd()+'/Matrix/FULL/UNSW/3') \n",
    "                \n",
    "    accuracy = accuracy.round(3)\n",
    "    accuracy.to_csv(os.getcwd()+'/Score/'+file+'.csv',index=False)"
   ]
  },
  {
   "attachments": {},
   "cell_type": "markdown",
   "metadata": {},
   "source": [
    "### !!! 파일 저장 위치 바뀔 수 있도록 위에서 설정해줘야함!"
   ]
  },
  {
   "cell_type": "code",
   "execution_count": 43,
   "metadata": {},
   "outputs": [
    {
     "name": "stdout",
     "output_type": "stream",
     "text": [
      "Dataset Split\n",
      "Full attack Classification Dataset Split\n",
      "Model\tAcc\tF1_mi\tRecall_mi\tPrecision_mi\tF1_ma\tRecall_ma\tPrecision_ma\tF1_we\tRecall_we\tPrecision_we\tExecution\n",
      "RF\t0.995\t0.995\t0.724\t0.994\t0.995\t0.709\t0.995\t0.995\t0.928\t0.996\t0.17 secs\n",
      "DT\t0.996\t0.996\t0.768\t0.995\t0.996\t0.759\t0.996\t0.996\t0.927\t0.997\t0.33 secs\n",
      "NB\t0.987\t0.987\t0.599\t0.988\t0.987\t0.819\t0.987\t0.987\t0.569\t0.989\t0.12 secs\n",
      "LDA\t0.993\t0.993\t0.710\t0.992\t0.993\t0.826\t0.993\t0.993\t0.765\t0.997\t0.62 secs\n",
      "QDA\t0.993\t0.993\t0.561\t0.992\t0.993\t0.609\t0.993\t0.993\t0.644\t0.997\t0.21 secs\n",
      "LR\t0.996\t0.996\t0.644\t0.995\t0.996\t0.671\t0.996\t0.996\t0.734\t0.996\t13.01 secs\n",
      "ABoost\t0.928\t0.928\t0.435\t0.908\t0.928\t0.402\t0.928\t0.928\t0.593\t0.926\t7.76 secs\n",
      "k-NN\t0.996\t0.996\t0.792\t0.996\t0.996\t0.775\t0.996\t0.996\t0.820\t0.996\t52.72 secs\n",
      "MLP\t0.996\t0.996\t0.647\t0.995\t0.996\t0.672\t0.996\t0.996\t0.732\t0.996\t8.43 secs\n",
      "SVM\t0.996\t0.996\t0.793\t0.995\t0.996\t0.789\t0.996\t0.996\t0.930\t0.997\t3.02 secs\n"
     ]
    },
    {
     "data": {
      "text/plain": [
       "<Figure size 432x288 with 0 Axes>"
      ]
     },
     "metadata": {},
     "output_type": "display_data"
    }
   ],
   "source": [
    "import classification_util\n",
    "class_1_CICI_X_train, class_1_CICI_X_test, class_1_CICI_y_train, class_1_CICI_y_test =TrainTestSplit('F', class_1_CICI_data)\n",
    "MultiClassification(dtype='C', type='F', file='class_1_CICI', models=models, X_train= class_1_CICI_X_train, X_test= class_1_CICI_X_test, y_train= class_1_CICI_y_train, y_test= class_1_CICI_y_test)"
   ]
  },
  {
   "cell_type": "code",
   "execution_count": 10,
   "metadata": {},
   "outputs": [
    {
     "name": "stdout",
     "output_type": "stream",
     "text": [
      "Dataset Split\n",
      "Full attack Classification Dataset Split\n",
      "Model\tAcc\tF1_mi\tRecall_mi\tPrecision_mi\tF1_ma\tRecall_ma\tPrecision_ma\tF1_we\tRecall_we\tPrecision_we\tExecution\n",
      "RF\t0.787\t0.787\t0.530\t0.743\t0.787\t0.512\t0.787\t0.787\t0.620\t0.769\t0.20 secs\n",
      "DT\t0.773\t0.773\t0.552\t0.744\t0.773\t0.551\t0.773\t0.773\t0.559\t0.730\t0.74 secs\n",
      "NB\t0.209\t0.209\t0.437\t0.193\t0.209\t0.677\t0.209\t0.209\t0.576\t0.728\t0.09 secs\n",
      "LDA\t0.777\t0.777\t0.602\t0.748\t0.777\t0.620\t0.777\t0.777\t0.641\t0.759\t0.38 secs\n",
      "QDA\t0.395\t0.395\t0.480\t0.469\t0.395\t0.625\t0.395\t0.395\t0.589\t0.876\t0.17 secs\n",
      "LR\t0.792\t0.792\t0.562\t0.755\t0.792\t0.548\t0.792\t0.792\t0.737\t0.800\t9.11 secs\n",
      "ABoost\t0.605\t0.605\t0.210\t0.467\t0.605\t0.228\t0.605\t0.605\t0.208\t0.383\t10.58 secs\n",
      "k-NN\t0.808\t0.808\t0.593\t0.779\t0.808\t0.571\t0.808\t0.808\t0.674\t0.796\t17.00 secs\n",
      "MLP\t0.812\t0.812\t0.604\t0.780\t0.812\t0.583\t0.812\t0.812\t0.788\t0.823\t45.31 secs\n",
      "SVM\t0.794\t0.794\t0.568\t0.757\t0.794\t0.549\t0.794\t0.794\t0.652\t0.765\t27.16 secs\n"
     ]
    },
    {
     "data": {
      "text/plain": [
       "<Figure size 432x288 with 0 Axes>"
      ]
     },
     "metadata": {},
     "output_type": "display_data"
    }
   ],
   "source": [
    "class_2_CICI_X_train, class_2_CICI_X_test, class_2_CICI_y_train, class_2_CICI_y_test =TrainTestSplit('F', class_2_CICI_data)\n",
    "MultiClassification(dtype='C', type='F', file='class_2_CICI', models=models, X_train= class_2_CICI_X_train, X_test= class_2_CICI_X_test, y_train= class_2_CICI_y_train, y_test= class_2_CICI_y_test)"
   ]
  },
  {
   "cell_type": "code",
   "execution_count": 12,
   "metadata": {},
   "outputs": [
    {
     "name": "stdout",
     "output_type": "stream",
     "text": [
      "Dataset Split\n",
      "Full attack Classification Dataset Split\n",
      "Model\tAcc\tF1_mi\tRecall_mi\tPrecision_mi\tF1_ma\tRecall_ma\tPrecision_ma\tF1_we\tRecall_we\tPrecision_we\tExecution\n",
      "RF\t0.991\t0.991\t0.945\t0.990\t0.991\t0.915\t0.991\t0.991\t0.983\t0.991\t0.90 secs\n",
      "DT\t0.972\t0.972\t0.800\t0.970\t0.972\t0.760\t0.972\t0.972\t0.872\t0.971\t3.62 secs\n",
      "NB\t0.692\t0.692\t0.628\t0.773\t0.692\t0.772\t0.692\t0.692\t0.679\t0.959\t0.26 secs\n",
      "LDA\t0.994\t0.994\t0.955\t0.994\t0.994\t0.962\t0.994\t0.994\t0.949\t0.994\t1.43 secs\n",
      "QDA\t0.982\t0.982\t0.952\t0.984\t0.982\t0.991\t0.982\t0.982\t0.930\t0.989\t0.49 secs\n",
      "LR\t0.998\t0.998\t0.984\t0.998\t0.998\t0.984\t0.998\t0.998\t0.984\t0.998\t30.70 secs\n",
      "ABoost\t0.936\t0.936\t0.570\t0.927\t0.936\t0.628\t0.936\t0.936\t0.556\t0.923\t51.82 secs\n"
     ]
    }
   ],
   "source": [
    "class_3_CICI_X_train, class_3_CICI_X_test, class_3_CICI_y_train, class_3_CICI_y_test =TrainTestSplit('F', class_3_CICI_data)\n",
    "MultiClassification(dtype='C', type='F', file='class_3_CICI', models=models, X_train= class_3_CICI_X_train, X_test= class_3_CICI_X_test, y_train= class_3_CICI_y_train, y_test= class_3_CICI_y_test)"
   ]
  }
 ],
 "metadata": {
  "kernelspec": {
   "display_name": "mlac",
   "language": "python",
   "name": "mlac"
  },
  "language_info": {
   "codemirror_mode": {
    "name": "ipython",
    "version": 3
   },
   "file_extension": ".py",
   "mimetype": "text/x-python",
   "name": "python",
   "nbconvert_exporter": "python",
   "pygments_lexer": "ipython3",
   "version": "3.7.6"
  },
  "orig_nbformat": 4
 },
 "nbformat": 4,
 "nbformat_minor": 2
}
