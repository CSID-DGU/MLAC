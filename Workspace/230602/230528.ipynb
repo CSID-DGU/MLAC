{
 "cells": [
  {
   "attachments": {},
   "cell_type": "markdown",
   "metadata": {},
   "source": [
    "## Malicious VS Benign 모델 테스트"
   ]
  },
  {
   "attachments": {},
   "cell_type": "markdown",
   "metadata": {},
   "source": [
    "### 0. 필요한 라이브러리 import 및 Data 불러오기"
   ]
  },
  {
   "attachments": {},
   "cell_type": "markdown",
   "metadata": {},
   "source": [
    "#### 라이브러리 임포트"
   ]
  },
  {
   "cell_type": "code",
   "execution_count": 5,
   "metadata": {},
   "outputs": [],
   "source": [
    "import classification_util\n",
    "import pandas as pd"
   ]
  },
  {
   "attachments": {},
   "cell_type": "markdown",
   "metadata": {},
   "source": [
    "#### 데이터 불러오기"
   ]
  },
  {
   "cell_type": "code",
   "execution_count": 6,
   "metadata": {},
   "outputs": [],
   "source": [
    "files={\n",
    "    'CICI':'/home/irteam/dcloud-global-dir/MLAC/new_data/CICI.csv',\n",
    "    'UNSW':'/home/irteam/dcloud-global-dir/MLAC/new_data/UNSW.csv'\n",
    "}"
   ]
  },
  {
   "cell_type": "code",
   "execution_count": 7,
   "metadata": {},
   "outputs": [],
   "source": [
    "CICI_data = pd.read_csv(files['CICI'])\n",
    "UNSW_data = pd.read_csv(files['UNSW'])"
   ]
  },
  {
   "attachments": {},
   "cell_type": "markdown",
   "metadata": {},
   "source": [
    "총 3개의 lable : attack_category, label, nist_category"
   ]
  },
  {
   "attachments": {},
   "cell_type": "markdown",
   "metadata": {},
   "source": [
    "##### 데이터 살펴보기"
   ]
  },
  {
   "cell_type": "code",
   "execution_count": 8,
   "metadata": {},
   "outputs": [
    {
     "data": {
      "text/html": [
       "<div>\n",
       "<style scoped>\n",
       "    .dataframe tbody tr th:only-of-type {\n",
       "        vertical-align: middle;\n",
       "    }\n",
       "\n",
       "    .dataframe tbody tr th {\n",
       "        vertical-align: top;\n",
       "    }\n",
       "\n",
       "    .dataframe thead th {\n",
       "        text-align: right;\n",
       "    }\n",
       "</style>\n",
       "<table border=\"1\" class=\"dataframe\">\n",
       "  <thead>\n",
       "    <tr style=\"text-align: right;\">\n",
       "      <th></th>\n",
       "      <th>protocol</th>\n",
       "      <th>flow_duration</th>\n",
       "      <th>tot_fwd_pkts</th>\n",
       "      <th>tot_bwd_pkts</th>\n",
       "      <th>tot_len_fwd_pkts</th>\n",
       "      <th>tot_len_bwd_pkts</th>\n",
       "      <th>fwd_pkt_len_max</th>\n",
       "      <th>fwd_pkt_len_min</th>\n",
       "      <th>fwd_pkt_len_mean</th>\n",
       "      <th>fwd_pkt_len_std</th>\n",
       "      <th>...</th>\n",
       "      <th>active_std</th>\n",
       "      <th>active_max</th>\n",
       "      <th>active_min</th>\n",
       "      <th>idle_mean</th>\n",
       "      <th>idle_std</th>\n",
       "      <th>idle_max</th>\n",
       "      <th>idle_min</th>\n",
       "      <th>attack_category</th>\n",
       "      <th>label</th>\n",
       "      <th>nist_category</th>\n",
       "    </tr>\n",
       "  </thead>\n",
       "  <tbody>\n",
       "    <tr>\n",
       "      <th>0</th>\n",
       "      <td>0.385385</td>\n",
       "      <td>0.969051</td>\n",
       "      <td>0.946613</td>\n",
       "      <td>0.878378</td>\n",
       "      <td>0.980855</td>\n",
       "      <td>0.898382</td>\n",
       "      <td>0.902052</td>\n",
       "      <td>0.0</td>\n",
       "      <td>0.953632</td>\n",
       "      <td>0.921887</td>\n",
       "      <td>...</td>\n",
       "      <td>0.98494</td>\n",
       "      <td>0.978687</td>\n",
       "      <td>0.910856</td>\n",
       "      <td>0.951187</td>\n",
       "      <td>0.994026</td>\n",
       "      <td>0.952075</td>\n",
       "      <td>0.923429</td>\n",
       "      <td>0</td>\n",
       "      <td>0.0</td>\n",
       "      <td>0</td>\n",
       "    </tr>\n",
       "  </tbody>\n",
       "</table>\n",
       "<p>1 rows × 69 columns</p>\n",
       "</div>"
      ],
      "text/plain": [
       "   protocol  flow_duration  tot_fwd_pkts  tot_bwd_pkts  tot_len_fwd_pkts  \\\n",
       "0  0.385385       0.969051      0.946613      0.878378          0.980855   \n",
       "\n",
       "   tot_len_bwd_pkts  fwd_pkt_len_max  fwd_pkt_len_min  fwd_pkt_len_mean  \\\n",
       "0          0.898382         0.902052              0.0          0.953632   \n",
       "\n",
       "   fwd_pkt_len_std  ...  active_std  active_max  active_min  idle_mean  \\\n",
       "0         0.921887  ...     0.98494    0.978687    0.910856   0.951187   \n",
       "\n",
       "   idle_std  idle_max  idle_min  attack_category  label  nist_category  \n",
       "0  0.994026  0.952075  0.923429                0    0.0              0  \n",
       "\n",
       "[1 rows x 69 columns]"
      ]
     },
     "execution_count": 8,
     "metadata": {},
     "output_type": "execute_result"
    }
   ],
   "source": [
    "CICI_data.head(1)"
   ]
  },
  {
   "cell_type": "code",
   "execution_count": 9,
   "metadata": {},
   "outputs": [
    {
     "data": {
      "text/plain": [
       "0     5759318\n",
       "7      231073\n",
       "16     158930\n",
       "4      128027\n",
       "10      59131\n",
       "12      25621\n",
       "5       22493\n",
       "13      18100\n",
       "17      15203\n",
       "6       10293\n",
       "11       7938\n",
       "18       5897\n",
       "9        5796\n",
       "8        5499\n",
       "2        4070\n",
       "3        1966\n",
       "1        1695\n",
       "20       1507\n",
       "19        865\n",
       "22        652\n",
       "23        105\n",
       "15         36\n",
       "21         21\n",
       "14         11\n",
       "Name: attack_category, dtype: int64"
      ]
     },
     "execution_count": 9,
     "metadata": {},
     "output_type": "execute_result"
    }
   ],
   "source": [
    "CICI_data['attack_category'].value_counts()"
   ]
  },
  {
   "cell_type": "code",
   "execution_count": 10,
   "metadata": {},
   "outputs": [
    {
     "data": {
      "text/plain": [
       "0.0    5759318\n",
       "1.0     704929\n",
       "Name: label, dtype: int64"
      ]
     },
     "execution_count": 10,
     "metadata": {},
     "output_type": "execute_result"
    }
   ],
   "source": [
    "CICI_data['label'].value_counts()"
   ]
  },
  {
   "cell_type": "code",
   "execution_count": 11,
   "metadata": {},
   "outputs": [
    {
     "data": {
      "text/plain": [
       "0    5759318\n",
       "3     403181\n",
       "1     176324\n",
       "2     105629\n",
       "4      19795\n",
       "Name: nist_category, dtype: int64"
      ]
     },
     "execution_count": 11,
     "metadata": {},
     "output_type": "execute_result"
    }
   ],
   "source": [
    "CICI_data['nist_category'].value_counts()"
   ]
  },
  {
   "cell_type": "code",
   "execution_count": 12,
   "metadata": {},
   "outputs": [
    {
     "data": {
      "text/html": [
       "<div>\n",
       "<style scoped>\n",
       "    .dataframe tbody tr th:only-of-type {\n",
       "        vertical-align: middle;\n",
       "    }\n",
       "\n",
       "    .dataframe tbody tr th {\n",
       "        vertical-align: top;\n",
       "    }\n",
       "\n",
       "    .dataframe thead th {\n",
       "        text-align: right;\n",
       "    }\n",
       "</style>\n",
       "<table border=\"1\" class=\"dataframe\">\n",
       "  <thead>\n",
       "    <tr style=\"text-align: right;\">\n",
       "      <th></th>\n",
       "      <th>dur</th>\n",
       "      <th>sbytes</th>\n",
       "      <th>dbytes</th>\n",
       "      <th>sttl</th>\n",
       "      <th>dttl</th>\n",
       "      <th>sloss</th>\n",
       "      <th>dloss</th>\n",
       "      <th>sload</th>\n",
       "      <th>dload</th>\n",
       "      <th>spkts</th>\n",
       "      <th>...</th>\n",
       "      <th>service_irc</th>\n",
       "      <th>service_pop3</th>\n",
       "      <th>service_radius</th>\n",
       "      <th>service_smtp</th>\n",
       "      <th>service_snmp</th>\n",
       "      <th>service_ssh</th>\n",
       "      <th>service_ssl</th>\n",
       "      <th>attack_category</th>\n",
       "      <th>label</th>\n",
       "      <th>nist_category</th>\n",
       "    </tr>\n",
       "  </thead>\n",
       "  <tbody>\n",
       "    <tr>\n",
       "      <th>0</th>\n",
       "      <td>0.104605</td>\n",
       "      <td>0.517017</td>\n",
       "      <td>0.0</td>\n",
       "      <td>0.435936</td>\n",
       "      <td>0.0</td>\n",
       "      <td>0.0</td>\n",
       "      <td>0.0</td>\n",
       "      <td>0.980584</td>\n",
       "      <td>0.0</td>\n",
       "      <td>0.586086</td>\n",
       "      <td>...</td>\n",
       "      <td>0</td>\n",
       "      <td>0</td>\n",
       "      <td>0</td>\n",
       "      <td>0</td>\n",
       "      <td>0</td>\n",
       "      <td>0</td>\n",
       "      <td>0</td>\n",
       "      <td>0</td>\n",
       "      <td>0.0</td>\n",
       "      <td>0</td>\n",
       "    </tr>\n",
       "  </tbody>\n",
       "</table>\n",
       "<p>1 rows × 211 columns</p>\n",
       "</div>"
      ],
      "text/plain": [
       "        dur    sbytes  dbytes      sttl  dttl  sloss  dloss     sload  dload  \\\n",
       "0  0.104605  0.517017     0.0  0.435936   0.0    0.0    0.0  0.980584    0.0   \n",
       "\n",
       "      spkts  ...  service_irc  service_pop3  service_radius  service_smtp  \\\n",
       "0  0.586086  ...            0             0               0             0   \n",
       "\n",
       "   service_snmp  service_ssh  service_ssl  attack_category  label  \\\n",
       "0             0            0            0                0    0.0   \n",
       "\n",
       "   nist_category  \n",
       "0              0  \n",
       "\n",
       "[1 rows x 211 columns]"
      ]
     },
     "execution_count": 12,
     "metadata": {},
     "output_type": "execute_result"
    }
   ],
   "source": [
    "UNSW_data.head(1)"
   ]
  },
  {
   "cell_type": "code",
   "execution_count": 13,
   "metadata": {},
   "outputs": [
    {
     "data": {
      "text/plain": [
       "0     4157619\n",
       "13     215481\n",
       "7      161097\n",
       "16     158935\n",
       "4       96027\n",
       "10      44525\n",
       "12      24246\n",
       "5       16353\n",
       "17      13987\n",
       "8        8835\n",
       "6        8780\n",
       "9        8706\n",
       "11       3991\n",
       "18       2984\n",
       "1        2677\n",
       "2        2329\n",
       "19       1511\n",
       "20       1365\n",
       "3        1230\n",
       "22        648\n",
       "23        174\n",
       "15         59\n",
       "14         21\n",
       "21         12\n",
       "Name: attack_category, dtype: int64"
      ]
     },
     "execution_count": 13,
     "metadata": {},
     "output_type": "execute_result"
    }
   ],
   "source": [
    "UNSW_data['attack_category'].value_counts()"
   ]
  },
  {
   "cell_type": "code",
   "execution_count": 14,
   "metadata": {},
   "outputs": [
    {
     "data": {
      "text/plain": [
       "0.0    4157619\n",
       "1.0     773973\n",
       "Name: label, dtype: int64"
      ]
     },
     "execution_count": 14,
     "metadata": {},
     "output_type": "execute_result"
    }
   ],
   "source": [
    "UNSW_data['label'].value_counts()"
   ]
  },
  {
   "cell_type": "code",
   "execution_count": 15,
   "metadata": {},
   "outputs": [
    {
     "data": {
      "text/plain": [
       "0    4157619\n",
       "3     299798\n",
       "4     218158\n",
       "1     174968\n",
       "2      81049\n",
       "Name: nist_category, dtype: int64"
      ]
     },
     "execution_count": 15,
     "metadata": {},
     "output_type": "execute_result"
    }
   ],
   "source": [
    "UNSW_data['nist_category'].value_counts()"
   ]
  },
  {
   "attachments": {},
   "cell_type": "markdown",
   "metadata": {},
   "source": [
    "#### 모델 불러오기"
   ]
  },
  {
   "cell_type": "code",
   "execution_count": 16,
   "metadata": {},
   "outputs": [],
   "source": [
    "models = classification_util.getModels()"
   ]
  },
  {
   "attachments": {},
   "cell_type": "markdown",
   "metadata": {},
   "source": [
    "### 1. Malicious VS Benign 모델 훈련 및 결과보기"
   ]
  },
  {
   "attachments": {},
   "cell_type": "markdown",
   "metadata": {},
   "source": [
    "#### CICI"
   ]
  },
  {
   "cell_type": "code",
   "execution_count": 18,
   "metadata": {},
   "outputs": [
    {
     "name": "stdout",
     "output_type": "stream",
     "text": [
      "Dataset Split\n",
      "Binary Classification Dataset Split\n"
     ]
    }
   ],
   "source": [
    "CICI_mb_X_train, CICI_mb_X_test, CICI_mb_y_train, CICI_mb_y_test =classification_util.TrainTestSplit('B', CICI_data)"
   ]
  },
  {
   "cell_type": "code",
   "execution_count": null,
   "metadata": {},
   "outputs": [],
   "source": [
    "classification_util.BinaryClassification(file='CICI_mb', models=models, X_train = CICI_mb_X_train, X_test = CICI_mb_X_test, y_train = CICI_mb_y_train, y_test = CICI_mb_y_test)"
   ]
  },
  {
   "attachments": {},
   "cell_type": "markdown",
   "metadata": {},
   "source": [
    "#### UNSW"
   ]
  },
  {
   "cell_type": "code",
   "execution_count": null,
   "metadata": {},
   "outputs": [],
   "source": [
    "UNSW_mb_X_train, UNSW_mb_X_test, UNSW_mb_y_train, UNSW_mb_y_test =classification_util.TrainTestSplit('B', UNSW_data)\n",
    "classification_util.BinaryClassification(file='UNSW_mb', models=models, X_train = UNSW_mb_X_train, X_test = UNSW_mb_X_test, y_train = UNSW_mb_y_train, y_test = UNSW_mb_y_test)"
   ]
  }
 ],
 "metadata": {
  "kernelspec": {
   "display_name": "mlac",
   "language": "python",
   "name": "mlac"
  },
  "language_info": {
   "codemirror_mode": {
    "name": "ipython",
    "version": 3
   },
   "file_extension": ".py",
   "mimetype": "text/x-python",
   "name": "python",
   "nbconvert_exporter": "python",
   "pygments_lexer": "ipython3",
   "version": "3.7.6"
  },
  "orig_nbformat": 4
 },
 "nbformat": 4,
 "nbformat_minor": 2
}
