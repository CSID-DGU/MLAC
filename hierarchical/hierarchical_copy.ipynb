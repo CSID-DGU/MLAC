{
 "cells": [
  {
   "cell_type": "code",
   "execution_count": 59,
   "metadata": {},
   "outputs": [],
   "source": [
    "import time\n",
    "import warnings\n",
    "warnings.filterwarnings(\"ignore\")\n",
    "import pandas as pd\n",
    "import numpy as np\n",
    "from sklearn.model_selection import train_test_split\n",
    "from sklearn import model_selection\n",
    "from sklearn.model_selection import cross_val_score\n",
    "from sklearn.neighbors import KNeighborsClassifier\n",
    "from sklearn.svm import SVC\n",
    "from sklearn.tree import DecisionTreeClassifier\n",
    "from sklearn.ensemble import RandomForestClassifier\n",
    "from sklearn.ensemble import AdaBoostClassifier\n",
    "from sklearn.linear_model import LogisticRegression\n",
    "from sklearn.naive_bayes import GaussianNB\n",
    "from sklearn.discriminant_analysis import LinearDiscriminantAnalysis\n",
    "from sklearn.discriminant_analysis import QuadraticDiscriminantAnalysis\n",
    "from sklearn.neural_network import MLPClassifier\n",
    "from sklearn.metrics import precision_score, recall_score, confusion_matrix, classification_report, accuracy_score, f1_score\n",
    "from sklearn import metrics\n",
    "from load import test_result,create_pipeline,plot_confusion_matrix\n",
    "\n",
    "import os\n",
    "\n"
   ]
  },
  {
   "cell_type": "code",
   "execution_count": 60,
   "metadata": {},
   "outputs": [],
   "source": [
    "\n",
    "from pathlib import Path\n",
    "import seaborn as sns\n",
    "import matplotlib.pyplot as plt\n",
    "import itertools"
   ]
  },
  {
   "cell_type": "code",
   "execution_count": 61,
   "metadata": {},
   "outputs": [],
   "source": [
    "# 전처리\n",
    "# Get Dataset\n",
    "files={\n",
    "    'CICI':'/home/irteam/junghye-dcloud-dir/MLAC/new_data/CICI.csv',\n",
    "    'UNSW':'/home/irteam/junghye-dcloud-dir/MLAC/new_data/UNSW.csv'\n",
    "}\n",
    "\n",
    "data = pd.read_csv(files['CICI'])\n",
    "data=data[np.isfinite(data).all(1)]\n",
    "\n",
    "\n"
   ]
  },
  {
   "cell_type": "code",
   "execution_count": 62,
   "metadata": {},
   "outputs": [],
   "source": [
    "#target\n",
    "binary_t=data['label']\n",
    "multi1_t=data['nist_category']\n",
    "multi2_t=data['attack_category'] # 최종\n",
    "# 마지막 3-class classifier\n",
    "class_1_data=data[data['nist_category']==1] # 여기서 각각 attack_category예측\n",
    "class_2_data=data[data['nist_category']==2]\n",
    "class_3_data=data[data['nist_category']==3]\n",
    "class_4_data=data[data['nist_category']==4]\n",
    "\n",
    "for class_data in [class_1_data,class_2_data,class_3_data,class_4_data]:\n",
    "    class_data.drop(labels=['nist_category','label'],axis=1,inplace=True)\n",
    "\n",
    "data=data.drop(labels=['label','attack_category','nist_category'],axis=1)"
   ]
  },
  {
   "cell_type": "code",
   "execution_count": 63,
   "metadata": {},
   "outputs": [],
   "source": [
    "# Define Models\n",
    "models = []\n",
    "models.append(('RF', RandomForestClassifier(max_depth=5, n_estimators=5, max_features=3)))    \n",
    "models.append(('CART', DecisionTreeClassifier(max_depth=5)))\n",
    "models.append(('NB', GaussianNB()))\n",
    "models.append(('LDA', LinearDiscriminantAnalysis()))\n",
    "models.append(('QDA', QuadraticDiscriminantAnalysis()))\n",
    "models.append(('LR', LogisticRegression(solver='lbfgs', max_iter=200)))\n",
    "models.append(('ABoost', AdaBoostClassifier()))\n",
    "models.append(('KNN', KNeighborsClassifier()))\n",
    "models.append(('MLP', MLPClassifier()))"
   ]
  },
  {
   "cell_type": "code",
   "execution_count": 64,
   "metadata": {},
   "outputs": [],
   "source": [
    "df=pd.DataFrame(columns=['name','b_acc','b_f1','b_rc','b_pc','m_acc','m_f1','m_rc','m_pc']+\\\n",
    "                 ['c1_acc','c1_f1','c1_rc','c1_pc']+\\\n",
    "                    ['c2_acc','c2_f1','c2_rc','c2_pc','c3_acc','c3_f1','c3_rc','c3_pc','c4_acc','c4_f1','c4_rc','c4_pc'])\n",
    "eval_path='/home/irteam/junghye-dcloud-dir/MLAC/evaluation'\n",
    "confusion_path='/home/irteam/junghye-dcloud-dir/MLAC/confusion_matrix/hierarchical'\n",
    "cnt=0\n"
   ]
  },
  {
   "cell_type": "code",
   "execution_count": 65,
   "metadata": {},
   "outputs": [],
   "source": [
    "X_train,X_test,y_train,y_test=train_test_split(data,binary_t,test_size=0.3, shuffle=True, stratify=binary_t, random_state=34)"
   ]
  },
  {
   "cell_type": "code",
   "execution_count": 66,
   "metadata": {},
   "outputs": [],
   "source": [
    "multi1_train=multi1_t.loc[y_train.index]\n",
    "\n",
    "multi1_test=multi1_t.loc[y_test.index]\n",
    "\n",
    "# class data, class_1_train, class_y_train, class_y_test \n",
    "\n",
    "nist_data={\n",
    "    1: {'data':class_1_data,'y_train':None,'y_test':None },\n",
    "    2: {'data':class_2_data,'y_train':None,'y_test':None },\n",
    "    3: {'data':class_3_data,'y_train':None,'y_test':None },\n",
    "    4: {'data':class_4_data,'y_train':None,'y_test':None }\n",
    "}\n",
    "\n",
    "for cls,data in nist_data.items():\n",
    "    data['X_train']=data['data'].loc[data['data'].index.isin(y_train.index)]\n",
    "    data['y_train']=data['X_train']['attack_category']\n",
    "    data['y_test']=data['data'].loc[data['data'].index.isin(y_test.index), 'attack_category']\n",
    "    data['X_train'].drop('attack_category',axis=1,inplace=True)\n",
    "\n"
   ]
  },
  {
   "cell_type": "markdown",
   "metadata": {},
   "source": [
    "1. 모든 classifier을 동시에 다 train (있는 데이터 다 데리고)\n",
    "    그리고 test할 떄만 계층적으로 내려옴 (test 데이터를 쪼개고쪼개고..??)\n",
    "\n",
    "2. 한 classifier을 train -> train set으로 예측 진행 1로 분류된 데이터 -> "
   ]
  },
  {
   "cell_type": "code",
   "execution_count": 67,
   "metadata": {},
   "outputs": [],
   "source": [
    "model_eval=[]\n",
    "    \n",
    "def train_and_predict(model, X_train, y_train, multi1_X_test, indices):\n",
    "    model.fit(X_train,y_train)\n",
    "    test_selected = multi1_X_test.iloc[indices]\n",
    "    predictions = model.predict(test_selected)\n",
    "    result = test_result(model, multi2_t.loc[indices], predictions)\n",
    "    model_eval.extend(result)\n",
    "\n"
   ]
  },
  {
   "cell_type": "code",
   "execution_count": 68,
   "metadata": {},
   "outputs": [
    {
     "name": "stdout",
     "output_type": "stream",
     "text": [
      "binary train starting...\n",
      "binary test starting...\n",
      "RandomForestClassifier(max_depth=5, max_features=3, n_estimators=5) result , acc:0.9715362699978085, f1:0.9698248032018093,recall:0.9715362699978085,precision:0.9718991311794214\n",
      "multi1 train starting...\n",
      "multi1 test starting...\n",
      "Pipeline(steps=[('imputer', SimpleImputer()), ('scaler', MinMaxScaler()),\n",
      "                ('model',\n",
      "                 RandomForestClassifier(max_depth=5, max_features=3,\n",
      "                                        n_estimators=5))]) result , acc:0.9180790259989834, f1:0.9153392304651311,recall:0.9180790259989834,precision:0.928008294868656\n",
      "class1 train & test starting\n",
      "RandomForestClassifier(max_depth=5, max_features=3, n_estimators=5) result , acc:0.0, f1:0.0,recall:0.0,precision:0.0\n",
      "class2 train & test starting\n",
      "RandomForestClassifier(max_depth=5, max_features=3, n_estimators=5) result , acc:0.0, f1:0.0,recall:0.0,precision:0.0\n",
      "class3 train & test starting\n",
      "RandomForestClassifier(max_depth=5, max_features=3, n_estimators=5) result , acc:0.0, f1:0.0,recall:0.0,precision:0.0\n",
      "class4 train & test starting\n",
      "RandomForestClassifier(max_depth=5, max_features=3, n_estimators=5) result , acc:0.0, f1:0.0,recall:0.0,precision:0.0\n"
     ]
    },
    {
     "ename": "ValueError",
     "evalue": "cannot set a row with mismatched columns",
     "output_type": "error",
     "traceback": [
      "\u001b[0;31m---------------------------------------------------------------------------\u001b[0m",
      "\u001b[0;31mValueError\u001b[0m                                Traceback (most recent call last)",
      "\u001b[0;32m<ipython-input-68-c82e6ae51d80>\u001b[0m in \u001b[0;36m<module>\u001b[0;34m\u001b[0m\n\u001b[1;32m     49\u001b[0m \u001b[0;34m\u001b[0m\u001b[0m\n\u001b[1;32m     50\u001b[0m \u001b[0;34m\u001b[0m\u001b[0m\n\u001b[0;32m---> 51\u001b[0;31m     \u001b[0mdf\u001b[0m\u001b[0;34m.\u001b[0m\u001b[0mloc\u001b[0m\u001b[0;34m[\u001b[0m\u001b[0mcnt\u001b[0m\u001b[0;34m]\u001b[0m\u001b[0;34m=\u001b[0m\u001b[0mmodel_eval\u001b[0m\u001b[0;34m\u001b[0m\u001b[0;34m\u001b[0m\u001b[0m\n\u001b[0m\u001b[1;32m     52\u001b[0m     \u001b[0mcnt\u001b[0m\u001b[0;34m=\u001b[0m\u001b[0mcnt\u001b[0m\u001b[0;34m+\u001b[0m\u001b[0;36m1\u001b[0m\u001b[0;34m\u001b[0m\u001b[0;34m\u001b[0m\u001b[0m\n\u001b[1;32m     53\u001b[0m \u001b[0;34m\u001b[0m\u001b[0m\n",
      "\u001b[0;32m~/anaconda3/lib/python3.7/site-packages/pandas/core/indexing.py\u001b[0m in \u001b[0;36m__setitem__\u001b[0;34m(self, key, value)\u001b[0m\n\u001b[1;32m    690\u001b[0m \u001b[0;34m\u001b[0m\u001b[0m\n\u001b[1;32m    691\u001b[0m         \u001b[0miloc\u001b[0m \u001b[0;34m=\u001b[0m \u001b[0mself\u001b[0m \u001b[0;32mif\u001b[0m \u001b[0mself\u001b[0m\u001b[0;34m.\u001b[0m\u001b[0mname\u001b[0m \u001b[0;34m==\u001b[0m \u001b[0;34m\"iloc\"\u001b[0m \u001b[0;32melse\u001b[0m \u001b[0mself\u001b[0m\u001b[0;34m.\u001b[0m\u001b[0mobj\u001b[0m\u001b[0;34m.\u001b[0m\u001b[0miloc\u001b[0m\u001b[0;34m\u001b[0m\u001b[0;34m\u001b[0m\u001b[0m\n\u001b[0;32m--> 692\u001b[0;31m         \u001b[0miloc\u001b[0m\u001b[0;34m.\u001b[0m\u001b[0m_setitem_with_indexer\u001b[0m\u001b[0;34m(\u001b[0m\u001b[0mindexer\u001b[0m\u001b[0;34m,\u001b[0m \u001b[0mvalue\u001b[0m\u001b[0;34m,\u001b[0m \u001b[0mself\u001b[0m\u001b[0;34m.\u001b[0m\u001b[0mname\u001b[0m\u001b[0;34m)\u001b[0m\u001b[0;34m\u001b[0m\u001b[0;34m\u001b[0m\u001b[0m\n\u001b[0m\u001b[1;32m    693\u001b[0m \u001b[0;34m\u001b[0m\u001b[0m\n\u001b[1;32m    694\u001b[0m     \u001b[0;32mdef\u001b[0m \u001b[0m_validate_key\u001b[0m\u001b[0;34m(\u001b[0m\u001b[0mself\u001b[0m\u001b[0;34m,\u001b[0m \u001b[0mkey\u001b[0m\u001b[0;34m,\u001b[0m \u001b[0maxis\u001b[0m\u001b[0;34m:\u001b[0m \u001b[0mint\u001b[0m\u001b[0;34m)\u001b[0m\u001b[0;34m:\u001b[0m\u001b[0;34m\u001b[0m\u001b[0;34m\u001b[0m\u001b[0m\n",
      "\u001b[0;32m~/anaconda3/lib/python3.7/site-packages/pandas/core/indexing.py\u001b[0m in \u001b[0;36m_setitem_with_indexer\u001b[0;34m(self, indexer, value, name)\u001b[0m\n\u001b[1;32m   1627\u001b[0m \u001b[0;34m\u001b[0m\u001b[0m\n\u001b[1;32m   1628\u001b[0m             \u001b[0;32mif\u001b[0m \u001b[0mmissing\u001b[0m\u001b[0;34m:\u001b[0m\u001b[0;34m\u001b[0m\u001b[0;34m\u001b[0m\u001b[0m\n\u001b[0;32m-> 1629\u001b[0;31m                 \u001b[0mself\u001b[0m\u001b[0;34m.\u001b[0m\u001b[0m_setitem_with_indexer_missing\u001b[0m\u001b[0;34m(\u001b[0m\u001b[0mindexer\u001b[0m\u001b[0;34m,\u001b[0m \u001b[0mvalue\u001b[0m\u001b[0;34m)\u001b[0m\u001b[0;34m\u001b[0m\u001b[0;34m\u001b[0m\u001b[0m\n\u001b[0m\u001b[1;32m   1630\u001b[0m                 \u001b[0;32mreturn\u001b[0m\u001b[0;34m\u001b[0m\u001b[0;34m\u001b[0m\u001b[0m\n\u001b[1;32m   1631\u001b[0m \u001b[0;34m\u001b[0m\u001b[0m\n",
      "\u001b[0;32m~/anaconda3/lib/python3.7/site-packages/pandas/core/indexing.py\u001b[0m in \u001b[0;36m_setitem_with_indexer_missing\u001b[0;34m(self, indexer, value)\u001b[0m\n\u001b[1;32m   1916\u001b[0m                     \u001b[0;31m# must have conforming columns\u001b[0m\u001b[0;34m\u001b[0m\u001b[0;34m\u001b[0m\u001b[0;34m\u001b[0m\u001b[0m\n\u001b[1;32m   1917\u001b[0m                     \u001b[0;32mif\u001b[0m \u001b[0mlen\u001b[0m\u001b[0;34m(\u001b[0m\u001b[0mvalue\u001b[0m\u001b[0;34m)\u001b[0m \u001b[0;34m!=\u001b[0m \u001b[0mlen\u001b[0m\u001b[0;34m(\u001b[0m\u001b[0mself\u001b[0m\u001b[0;34m.\u001b[0m\u001b[0mobj\u001b[0m\u001b[0;34m.\u001b[0m\u001b[0mcolumns\u001b[0m\u001b[0;34m)\u001b[0m\u001b[0;34m:\u001b[0m\u001b[0;34m\u001b[0m\u001b[0;34m\u001b[0m\u001b[0m\n\u001b[0;32m-> 1918\u001b[0;31m                         \u001b[0;32mraise\u001b[0m \u001b[0mValueError\u001b[0m\u001b[0;34m(\u001b[0m\u001b[0;34m\"cannot set a row with mismatched columns\"\u001b[0m\u001b[0;34m)\u001b[0m\u001b[0;34m\u001b[0m\u001b[0;34m\u001b[0m\u001b[0m\n\u001b[0m\u001b[1;32m   1919\u001b[0m \u001b[0;34m\u001b[0m\u001b[0m\n\u001b[1;32m   1920\u001b[0m                 \u001b[0mvalue\u001b[0m \u001b[0;34m=\u001b[0m \u001b[0mSeries\u001b[0m\u001b[0;34m(\u001b[0m\u001b[0mvalue\u001b[0m\u001b[0;34m,\u001b[0m \u001b[0mindex\u001b[0m\u001b[0;34m=\u001b[0m\u001b[0mself\u001b[0m\u001b[0;34m.\u001b[0m\u001b[0mobj\u001b[0m\u001b[0;34m.\u001b[0m\u001b[0mcolumns\u001b[0m\u001b[0;34m,\u001b[0m \u001b[0mname\u001b[0m\u001b[0;34m=\u001b[0m\u001b[0mindexer\u001b[0m\u001b[0;34m)\u001b[0m\u001b[0;34m\u001b[0m\u001b[0;34m\u001b[0m\u001b[0m\n",
      "\u001b[0;31mValueError\u001b[0m: cannot set a row with mismatched columns"
     ]
    }
   ],
   "source": [
    "for name, model in models:\n",
    "    # all models training (다 같은 trainset으로)\n",
    "    model_eval=[]\n",
    "    model_eval.append(name)\n",
    "    print('binary train starting...')\n",
    "    # binary classification\n",
    "    binary_model=model\n",
    "    \n",
    "    binary_model.fit(X_train,y_train)\n",
    "\n",
    "        # 순차적으로 test 진행\n",
    "    print('binary test starting...')\n",
    "    binary_pred=binary_model.predict(X_test) #  \n",
    "    binary_result=test_result(binary_model,y_test,binary_pred)\n",
    "    model_eval.extend(binary_result)\n",
    "    \n",
    "\n",
    "    print('multi1 train starting...')\n",
    "    #2-step training\n",
    "    # 주의 : label이 0인 것 빼고 training\n",
    "    \n",
    "    multi1_model=create_pipeline(model)\n",
    "    multi1_model.fit(X_train[multi1_train!=0],multi1_train[multi1_train!=0])\n",
    "    multi1_X_test=X_test.iloc[np.where(binary_pred==1)[0]] # 1로 분류된것만 이게 빈 걸로 반환됨 \n",
    "    \n",
    "    print('multi1 test starting...')\n",
    "    multi1_pred=multi1_model.predict(multi1_X_test)\n",
    "    # 리스트에서 1인 곳 의 값 반환 -> list \n",
    "    multi1_test_selected = multi1_test.iloc[np.where(binary_pred==1)[0]]# label중에서도 1로 분류된 것들만 \n",
    "    multi1_result=test_result(multi1_model,multi1_test_selected,multi1_pred)\n",
    "    model_eval.extend(multi1_result)\n",
    "    # last-step training\n",
    "    # all 4 models\n",
    "\n",
    "    # step 2의 결과로 1,2,3,4 로 분류된 것 \n",
    "    indices1 = np.where(multi1_pred == 1)[0]\n",
    "    indices2 = np.where(multi1_pred == 2)[0]\n",
    "    indices3 = np.where(multi1_pred == 3)[0]\n",
    "    indices4 = np.where(multi1_pred == 4)[0]\n",
    "    indices=[indices1,indices2,indices3,indices3]\n",
    "    #model, X_train, y_train, step2_X_test, y_test, indices\n",
    "    for cls,data in nist_data.items():\n",
    "        print('class'+str(cls)+' train & test starting')\n",
    "    \n",
    "        train_and_predict(model,data['X_train'],data['y_train'],multi1_X_test,indices[cls-1])\n",
    "\n",
    "    \n",
    "\n",
    "   \n",
    "\n",
    "    df.loc[cnt]=model_eval\n",
    "    cnt=cnt+1\n",
    "    \n",
    "    \n",
    "\n",
    "df.to_csv(os.path.join(eval_path,'hierarchical.csv'),index=False)\n",
    "    "
   ]
  },
  {
   "cell_type": "code",
   "execution_count": 82,
   "metadata": {},
   "outputs": [],
   "source": [
    "select_test_X=multi1_X_test.iloc[indices1] # 1(binary_pred)결과 , 1(multi1_pred)로 분류된 애들을 x test셋으로\n",
    "model=RandomForestClassifier(max_depth=5, n_estimators=5, max_features=3)\n",
    "y_test=multi2_t.loc[indices1]\n",
    "model.fit(nist_data[1]['X_train'],nist_data[1]['y_train']) # 그럼 여기서 y_test에는 없는 값을 제외해야할듯 \n",
    "\n",
    "y_pred=model.predict(select_test_X)\n"
   ]
  },
  {
   "cell_type": "code",
   "execution_count": 88,
   "metadata": {},
   "outputs": [
    {
     "data": {
      "text/plain": [
       "{16}"
      ]
     },
     "execution_count": 88,
     "metadata": {},
     "output_type": "execute_result"
    }
   ],
   "source": [
    "set(y_pred)"
   ]
  },
  {
   "cell_type": "code",
   "execution_count": 87,
   "metadata": {},
   "outputs": [
    {
     "data": {
      "text/plain": [
       "array([ 0, 20, 22, 21])"
      ]
     },
     "execution_count": 87,
     "metadata": {},
     "output_type": "execute_result"
    }
   ],
   "source": [
    "y_test.unique()"
   ]
  },
  {
   "cell_type": "code",
   "execution_count": 90,
   "metadata": {},
   "outputs": [
    {
     "data": {
      "text/plain": [
       "array([20, 22, 21, 14, 16, 17])"
      ]
     },
     "execution_count": 90,
     "metadata": {},
     "output_type": "execute_result"
    }
   ],
   "source": [
    "nist_data[1]['y_train'].unique()\n"
   ]
  },
  {
   "cell_type": "code",
   "execution_count": 93,
   "metadata": {},
   "outputs": [
    {
     "data": {
      "text/plain": [
       "12636      20\n",
       "12642      20\n",
       "12699      20\n",
       "15235      20\n",
       "15237      20\n",
       "           ..\n",
       "6442797    17\n",
       "6443287    17\n",
       "6443689    17\n",
       "6443886    17\n",
       "6444114    17\n",
       "Name: attack_category, Length: 123521, dtype: int64"
      ]
     },
     "execution_count": 93,
     "metadata": {},
     "output_type": "execute_result"
    }
   ],
   "source": [
    "nist_data[1]['y_train']"
   ]
  },
  {
   "cell_type": "code",
   "execution_count": null,
   "metadata": {},
   "outputs": [],
   "source": [
    "class_1_test"
   ]
  },
  {
   "cell_type": "code",
   "execution_count": null,
   "metadata": {},
   "outputs": [],
   "source": [
    "df.head()"
   ]
  },
  {
   "cell_type": "code",
   "execution_count": null,
   "metadata": {},
   "outputs": [],
   "source": [
    "index_list=[i for i in np.where(multi1_pred==1)[0] if i in class_1_test.index]\n",
    "#class_1_test.loc[index_list,:]\n",
    "print(np.where(multi1_pred==1)[0])\n"
   ]
  },
  {
   "cell_type": "code",
   "execution_count": null,
   "metadata": {},
   "outputs": [],
   "source": [
    "set(multi1_pred)"
   ]
  },
  {
   "cell_type": "code",
   "execution_count": null,
   "metadata": {},
   "outputs": [],
   "source": [
    "print(len(multi1_test))\n",
    "print(len(binary_pred))"
   ]
  },
  {
   "cell_type": "code",
   "execution_count": null,
   "metadata": {},
   "outputs": [],
   "source": [
    "from collections import Counter\n",
    "\n",
    "\n",
    "result = Counter(binary_pred)\n",
    "print(result)\n",
    "\n",
    "for key in result:\n",
    "    print(key, result[key])\n",
    "\n",
    "# 값만 출력도 가능\n",
    "result = Counter(binary_pred).values()\n",
    "print(result)"
   ]
  },
  {
   "cell_type": "code",
   "execution_count": null,
   "metadata": {},
   "outputs": [],
   "source": [
    "y_test.value_counts()"
   ]
  },
  {
   "cell_type": "code",
   "execution_count": null,
   "metadata": {},
   "outputs": [],
   "source": [
    "multi1_X_test"
   ]
  },
  {
   "cell_type": "code",
   "execution_count": null,
   "metadata": {},
   "outputs": [],
   "source": [
    "binary_t.value_counts()\n"
   ]
  }
 ],
 "metadata": {
  "kernelspec": {
   "display_name": "Python 3",
   "language": "python",
   "name": "python3"
  },
  "language_info": {
   "codemirror_mode": {
    "name": "ipython",
    "version": 3
   },
   "file_extension": ".py",
   "mimetype": "text/x-python",
   "name": "python",
   "nbconvert_exporter": "python",
   "pygments_lexer": "ipython3",
   "version": "3.7.10"
  }
 },
 "nbformat": 4,
 "nbformat_minor": 2
}
